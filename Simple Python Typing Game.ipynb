{
 "cells": [
  {
   "cell_type": "raw",
   "id": "8de32f66-73f0-4f0c-bf42-d21ed6132350",
   "metadata": {},
   "source": [
    "* Create a program that displays a word used in Python and allow user to type the word with the limitation.\n",
    "\n",
    "* words to be used - len, print, max, min, sum, list, dict, str, int, float, def\n",
    "* import libraries time and random\n",
    "* define functions\n",
    "* ask for the use input\n",
    "* while loop\n",
    "* if statement and else statement\n",
    "* use break\n",
    "* display current score\n",
    "* display total correct answer\n",
    "* display total wrong answer\n"
   ]
  },
  {
   "cell_type": "code",
   "execution_count": 1,
   "id": "a6521387-b57f-49ab-85f2-a50758c47288",
   "metadata": {},
   "outputs": [
    {
     "name": "stdout",
     "output_type": "stream",
     "text": [
      "Type this word:  def\n"
     ]
    },
    {
     "name": "stdin",
     "output_type": "stream",
     "text": [
      " \n"
     ]
    },
    {
     "name": "stdout",
     "output_type": "stream",
     "text": [
      "Wrong answer or time expired!\n",
      "Minus one, your score is... -1\n",
      "Type this word:  max\n"
     ]
    },
    {
     "name": "stdin",
     "output_type": "stream",
     "text": [
      " max\n"
     ]
    },
    {
     "name": "stdout",
     "output_type": "stream",
     "text": [
      "Wrong answer or time expired!\n",
      "Minus one, your score is... -2\n",
      "Type this word:  len\n"
     ]
    },
    {
     "name": "stdin",
     "output_type": "stream",
     "text": [
      " \n"
     ]
    },
    {
     "name": "stdout",
     "output_type": "stream",
     "text": [
      "Wrong answer or time expired!\n",
      "Minus one, your score is... -3\n",
      "Type this word:  max\n"
     ]
    },
    {
     "name": "stdin",
     "output_type": "stream",
     "text": [
      " \n"
     ]
    },
    {
     "name": "stdout",
     "output_type": "stream",
     "text": [
      "Wrong answer or time expired!\n",
      "Minus one, your score is... -4\n",
      "Time is up! Your final socre is... -4\n",
      "Your total correct answer is... 0\n",
      "Your total wrong answer is... 4\n"
     ]
    }
   ],
   "source": [
    "import random\n",
    "import time\n",
    "\n",
    "#list of words to be randomized, can also be good to read words from a file for scalability\n",
    "python_functions = ['len', 'print', 'max', 'min', 'sum', 'list', 'dict', 'str', 'int', 'float', 'def']\n",
    "\n",
    "def get_random_word(word_list):\n",
    "    return random.choice(word_list)\n",
    "\n",
    "def play_game(word_list, time_limit):\n",
    "    score = 0\n",
    "    total_correct = 0\n",
    "    total_wrong = 0\n",
    "    start_time = time.time()\n",
    "    while True:\n",
    "        word = get_random_word(word_list)\n",
    "        print('Type this word: ', word)\n",
    "        start = time.time()\n",
    "\n",
    "        user_input = input()\n",
    "\n",
    "        end = time.time()\n",
    "\n",
    "        if user_input == word and (end - start) < time_limit:\n",
    "            score += 1\n",
    "            total_correct += 1\n",
    "            print('Correct! Your score is...', score)\n",
    "        else:\n",
    "            score -= 1\n",
    "            total_wrong += 1\n",
    "            print('Wrong answer or time expired!')\n",
    "            print('Minus one, your score is...', score)\n",
    "            \n",
    "        if end - start_time > 15:\n",
    "            print('Time is up! Your final socre is...', score)\n",
    "            print('Your total correct answer is...', total_correct)\n",
    "            print('Your total wrong answer is...', total_wrong)\n",
    "            break\n",
    "\n",
    "play_game(python_functions, 5)\n"
   ]
  },
  {
   "cell_type": "code",
   "execution_count": 3,
   "id": "0569c609-35ff-49e6-b04e-9565d259087d",
   "metadata": {},
   "outputs": [
    {
     "name": "stdout",
     "output_type": "stream",
     "text": [
      "Welcome to the Python Typing Game!\n",
      "You have 5 seconds to type each word. The game lasts for 15 seconds.\n",
      "Let's begin!\n",
      "\n",
      "Type this word: abs\n"
     ]
    },
    {
     "name": "stdin",
     "output_type": "stream",
     "text": [
      " ABS\n"
     ]
    },
    {
     "name": "stdout",
     "output_type": "stream",
     "text": [
      "Wrong answer or time expired! Your score is now -1.\n",
      "Type this word: max\n"
     ]
    },
    {
     "name": "stdin",
     "output_type": "stream",
     "text": [
      " max\n"
     ]
    },
    {
     "name": "stdout",
     "output_type": "stream",
     "text": [
      "Correct! Your score is now 0.\n",
      "Type this word: type\n"
     ]
    },
    {
     "name": "stdin",
     "output_type": "stream",
     "text": [
      " type\n"
     ]
    },
    {
     "name": "stdout",
     "output_type": "stream",
     "text": [
      "Correct! Your score is now 1.\n",
      "Type this word: round\n"
     ]
    },
    {
     "name": "stdin",
     "output_type": "stream",
     "text": [
      " round\n"
     ]
    },
    {
     "name": "stdout",
     "output_type": "stream",
     "text": [
      "Correct! Your score is now 2.\n",
      "Type this word: sum\n"
     ]
    },
    {
     "name": "stdin",
     "output_type": "stream",
     "text": [
      " sum\n"
     ]
    },
    {
     "name": "stdout",
     "output_type": "stream",
     "text": [
      "Correct! Your score is now 3.\n",
      "\n",
      "Time is up!\n",
      "Your final score is 3.\n",
      "Total correct answers: 4\n",
      "Total wrong answers: 1\n"
     ]
    }
   ],
   "source": [
    "#ENHANCED CODE BY CHATGPT\n",
    "import random\n",
    "import time\n",
    "\n",
    "# List of words to be randomized\n",
    "python_functions = [\n",
    "    'len', 'print', 'max', 'min', 'sum', 'list', 'dict', 'str', 'int', 'float', 'def', 'abs', 'round', 'type'\n",
    "]\n",
    "\n",
    "def get_random_word(word_list):\n",
    "    \"\"\"Selects a random word from the given list.\"\"\"\n",
    "    return random.choice(word_list)\n",
    "\n",
    "def play_game(word_list, time_limit):\n",
    "    \"\"\"Main function to play the typing game.\"\"\"\n",
    "    score = 0\n",
    "    correct_answers = 0\n",
    "    wrong_answers = 0\n",
    "    start_time = time.time()\n",
    "\n",
    "    print(\"Welcome to the Python Typing Game!\")\n",
    "    print(f\"You have {time_limit} seconds to type each word. The game lasts for 15 seconds.\")\n",
    "    print(\"Let's begin!\\n\")\n",
    "\n",
    "    while True:\n",
    "        word = get_random_word(word_list)\n",
    "        print(f\"Type this word: {word}\")\n",
    "        start = time.time()\n",
    "\n",
    "        user_input = input().strip()\n",
    "        end = time.time()\n",
    "\n",
    "        if user_input == word and (end - start) <= time_limit:\n",
    "            score += 1\n",
    "            correct_answers += 1\n",
    "            print(f\"Correct! Your score is now {score}.\")\n",
    "        else:\n",
    "            score -= 1\n",
    "            wrong_answers += 1\n",
    "            print(f\"Wrong answer or time expired! Your score is now {score}.\")\n",
    "\n",
    "        if end - start_time > 15:\n",
    "            print(\"\\nTime is up!\")\n",
    "            print(f\"Your final score is {score}.\")\n",
    "            print(f\"Total correct answers: {correct_answers}\")\n",
    "            print(f\"Total wrong answers: {wrong_answers}\")\n",
    "            break\n",
    "\n",
    "# Start the game\n",
    "play_game(python_functions, 5)\n"
   ]
  },
  {
   "cell_type": "code",
   "execution_count": null,
   "id": "ff425873-08d9-4b04-b2bb-6760345526c4",
   "metadata": {},
   "outputs": [],
   "source": []
  }
 ],
 "metadata": {
  "kernelspec": {
   "display_name": "Python [conda env:base] *",
   "language": "python",
   "name": "conda-base-py"
  },
  "language_info": {
   "codemirror_mode": {
    "name": "ipython",
    "version": 3
   },
   "file_extension": ".py",
   "mimetype": "text/x-python",
   "name": "python",
   "nbconvert_exporter": "python",
   "pygments_lexer": "ipython3",
   "version": "3.12.7"
  }
 },
 "nbformat": 4,
 "nbformat_minor": 5
}
