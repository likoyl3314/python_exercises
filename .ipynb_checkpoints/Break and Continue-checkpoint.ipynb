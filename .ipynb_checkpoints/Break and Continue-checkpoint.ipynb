{
 "cells": [
  {
   "cell_type": "raw",
   "id": "8fc64c3a-c934-4e2d-b022-c4ddc45c4e7a",
   "metadata": {},
   "source": [
    "******BREAK in WHILE Loop*******"
   ]
  },
  {
   "cell_type": "code",
   "execution_count": 23,
   "id": "9def9382-e2ad-4a40-af09-5e37ec7c195c",
   "metadata": {},
   "outputs": [
    {
     "name": "stdin",
     "output_type": "stream",
     "text": [
      "Type anything or type EXIT to end the program gdfgfg\n"
     ]
    },
    {
     "name": "stdout",
     "output_type": "stream",
     "text": [
      "Type again.\n"
     ]
    },
    {
     "name": "stdin",
     "output_type": "stream",
     "text": [
      "Type anything or type EXIT to end the program EXIT\n"
     ]
    },
    {
     "name": "stdout",
     "output_type": "stream",
     "text": [
      "Exiting the program.\n"
     ]
    }
   ],
   "source": [
    "while True:\n",
    "    anything = input('Type anything or type EXIT to end the program')\n",
    "    if anything == 'EXIT':\n",
    "        print('Exiting the program.')\n",
    "        break\n",
    "    print('Type again.')"
   ]
  },
  {
   "cell_type": "raw",
   "id": "0e23f344-d4ae-46e5-b6e8-34c7223f663f",
   "metadata": {},
   "source": [
    "******CONTINUE in For Loop*******"
   ]
  },
  {
   "cell_type": "code",
   "execution_count": 25,
   "id": "2fe941d7-eaa1-43bc-b9ca-db9dc484e779",
   "metadata": {},
   "outputs": [
    {
     "name": "stdout",
     "output_type": "stream",
     "text": [
      "1\n",
      "2\n",
      "4\n",
      "5\n",
      "7\n",
      "8\n",
      "10\n",
      "11\n",
      "13\n",
      "14\n",
      "16\n",
      "17\n",
      "19\n",
      "20\n"
     ]
    }
   ],
   "source": [
    "for number in range(0, 21):\n",
    "    if number % 3 == 0:\n",
    "        continue\n",
    "    print(number)"
   ]
  },
  {
   "cell_type": "code",
   "execution_count": null,
   "id": "dbb75322-1462-44b3-8596-6bf3190bc7d8",
   "metadata": {},
   "outputs": [],
   "source": []
  }
 ],
 "metadata": {
  "kernelspec": {
   "display_name": "Python [conda env:base] *",
   "language": "python",
   "name": "conda-base-py"
  },
  "language_info": {
   "codemirror_mode": {
    "name": "ipython",
    "version": 3
   },
   "file_extension": ".py",
   "mimetype": "text/x-python",
   "name": "python",
   "nbconvert_exporter": "python",
   "pygments_lexer": "ipython3",
   "version": "3.12.7"
  }
 },
 "nbformat": 4,
 "nbformat_minor": 5
}
