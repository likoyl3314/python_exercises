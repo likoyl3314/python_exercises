{
 "cells": [
  {
   "cell_type": "code",
   "execution_count": 6,
   "id": "a2bdc277-279d-4115-bd09-9d13aeb0a7a4",
   "metadata": {},
   "outputs": [
    {
     "name": "stdout",
     "output_type": "stream",
     "text": [
      "1\n",
      "2\n",
      "3\n",
      "4\n",
      "5\n",
      "6\n",
      "7\n",
      "8\n",
      "9\n",
      "10\n",
      "Finished!\n"
     ]
    }
   ],
   "source": [
    "for i in range(1, 11):\n",
    "    print(i)\n",
    "print('Finished!')"
   ]
  },
  {
   "cell_type": "code",
   "execution_count": 8,
   "id": "81a79955-e08d-42a6-ab34-3007ae611c3c",
   "metadata": {},
   "outputs": [
    {
     "name": "stdout",
     "output_type": "stream",
     "text": [
      "H\n",
      "e\n",
      "l\n",
      "l\n",
      "o\n",
      " \n",
      "W\n",
      "o\n",
      "r\n",
      "l\n",
      "d\n",
      "Finished!\n"
     ]
    }
   ],
   "source": [
    "for letter in 'Hello World':\n",
    "    print(letter)\n",
    "print('Finished!')"
   ]
  },
  {
   "cell_type": "code",
   "execution_count": 14,
   "id": "3a374479-3aa0-49c6-b97e-c6691272b191",
   "metadata": {},
   "outputs": [
    {
     "name": "stdout",
     "output_type": "stream",
     "text": [
      "0 H\n",
      "1 e\n",
      "2 l\n",
      "3 l\n",
      "4 o\n",
      "5  \n",
      "6 W\n",
      "7 o\n",
      "8 r\n",
      "9 l\n",
      "10 d\n"
     ]
    }
   ],
   "source": [
    "my_list = 'Hello World'\n",
    "for i in range(len(my_list)):\n",
    "    print(i, my_list[i])\n"
   ]
  },
  {
   "cell_type": "code",
   "execution_count": 16,
   "id": "0e029a38-59ee-4b48-a8d8-51c55cab5b82",
   "metadata": {},
   "outputs": [
    {
     "name": "stdout",
     "output_type": "stream",
     "text": [
      "0 H\n",
      "1 e\n",
      "2 l\n",
      "3 l\n",
      "4 o\n",
      "5  \n",
      "6 W\n",
      "7 o\n",
      "8 r\n",
      "9 l\n",
      "10 d\n"
     ]
    }
   ],
   "source": [
    "for i, value in enumerate(my_list):\n",
    "    print(i, value)\n"
   ]
  },
  {
   "cell_type": "code",
   "execution_count": 24,
   "id": "59584d3e-bd05-4976-adaa-d183cc93ffc7",
   "metadata": {},
   "outputs": [
    {
     "name": "stdout",
     "output_type": "stream",
     "text": [
      "The total of all numbers in the list is equal to: 150.\n"
     ]
    }
   ],
   "source": [
    "#deifine a list of numbers\n",
    "numbers = [10, 20, 30, 40, 50]\n",
    "\n",
    "#initial number\n",
    "total_sum = 0\n",
    "\n",
    "#iterate over the list using a for loop\n",
    "for num in numbers:\n",
    "    total_sum += num  # add each number to the toal_sum through iteration\n",
    "\n",
    "print(f'The total of all numbers in the list is equal to: {total_sum}.')"
   ]
  },
  {
   "cell_type": "code",
   "execution_count": null,
   "id": "d9e7612e-bbfa-4395-9a9b-ef3ff8923588",
   "metadata": {},
   "outputs": [],
   "source": [
    "#this is a test_test test"
   ]
  }
 ],
 "metadata": {
  "kernelspec": {
   "display_name": "Python [conda env:base] *",
   "language": "python",
   "name": "conda-base-py"
  },
  "language_info": {
   "codemirror_mode": {
    "name": "ipython",
    "version": 3
   },
   "file_extension": ".py",
   "mimetype": "text/x-python",
   "name": "python",
   "nbconvert_exporter": "python",
   "pygments_lexer": "ipython3",
   "version": "3.12.7"
  }
 },
 "nbformat": 4,
 "nbformat_minor": 5
}
