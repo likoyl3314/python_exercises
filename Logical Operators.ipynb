{
 "cells": [
  {
   "cell_type": "raw",
   "id": "8b5927f1-5fcb-451a-a8b0-438d0e40ef1c",
   "metadata": {},
   "source": [
    "Python logical operators are used to combine conditional statements and return a boolean value (True or False). They are essential for controlling the flow of a program based on multiple conditions.\n",
    "\n",
    "### Python Logical Operators:\n",
    "\n",
    "1. **`and`**: Returns `True` if both conditions are `True`, otherwise returns `False`.\n",
    "   - Example: `True and False` → `False`\n",
    "   \n",
    "2. **`or`**: Returns `True` if at least one of the conditions is `True`, otherwise returns `False`.\n",
    "   - Example: `True or False` → `True`\n",
    "   \n",
    "3. **`not`**: Reverses the boolean value of the condition. If the condition is `True`, it returns `False`, and if the condition is `False`, it returns `True`.\n",
    "   - Example: `not True` → `False`\n",
    "\n",
    "### Rules for Logical Operators:\n",
    "\n",
    "1. **Operator Precedence**: Logical operators have precedence when evaluated. `not` has the highest precedence, followed by `and`, and then `or`. This means `not` is evaluated first, then `and`, and finally `or`.\n",
    "   - Example: `not True and False or True` is evaluated as `not(True)` → `False`, then `False and False` → `False`, and `False or True` → `True`.\n",
    "   \n",
    "2. **Short-circuit Evaluation**: Python uses short-circuit evaluation with logical operators. This means that evaluation stops as soon as the result is determined:\n",
    "   - For `and`: If the first condition is `False`, the second condition is not evaluated.\n",
    "   - For `or`: If the first condition is `True`, the second condition is not evaluated.\n",
    "\n",
    "### When to Use Logical Operators:\n",
    "\n",
    "- **Combining multiple conditions**: When you need to check if multiple conditions are `True` or `False`.\n",
    "   - Example: `if age >= 18 and age <= 65:`\n",
    "   \n",
    "- **Negating conditions**: Use `not` when you want to reverse the truth value of a condition.\n",
    "   - Example: `if not is_active:`\n",
    "   \n",
    "- **Handling multiple possible outcomes**: Use `or` when you want to check if at least one condition is `True`.\n",
    "   - Example: `if x == 1 or y == 2:`\n",
    "\n",
    "### When Not to Use Logical Operators:\n",
    "\n",
    "- **Avoid unnecessary complexity**: Don't overcomplicate conditions with too many logical operators in a single expression. It can make your code harder to read and debug.\n",
    "   - Example: Instead of `if x > 5 and y < 10 or z == 20 and a != 15:`, break it into smaller conditions.\n",
    "   \n",
    "- **Avoid redundant conditions**: Don’t use logical operators when the conditions are already covered by other logic in your program.\n",
    "   - Example: `if x == 5 or x == 5:` is redundant. Just use `if x == 5:`.\n",
    "   \n",
    "- **When one condition is sufficient**: If one condition is enough to control the flow, don’t add unnecessary logical operators.\n",
    "   - Example: `if x > 5 and x > 3:` can be simplified to `if x > 5:`.\n",
    "\n",
    "### What to Consider When Using Logical Operators:\n",
    "\n",
    "1. **Clarity**: Ensure that your use of logical operators makes the condition clear and easy to understand.\n",
    "   - Example: Use parentheses to clarify complex expressions: `if (x > 5 and y < 10) or z == 20:`\n",
    "\n",
    "2. **Performance**: While logical operators are generally efficient, using too many can impact performance, especially in large, complex conditions or loops.\n",
    "\n",
    "3. **Edge cases**: Consider edge cases where the conditions might lead to unexpected behavior, such as when working with `None`, empty lists, or other falsy values.\n",
    "\n",
    "By keeping these points in mind, you can use Python logical operators effectively and ensure your code is both efficient and easy to maintain."
   ]
  },
  {
   "cell_type": "code",
   "execution_count": 5,
   "id": "338d193e-f462-4469-9cb8-eb244dd07c26",
   "metadata": {},
   "outputs": [
    {
     "name": "stdin",
     "output_type": "stream",
     "text": [
      "Enter password:    supermayk\n"
     ]
    },
    {
     "name": "stdout",
     "output_type": "stream",
     "text": [
      "Access granted!\n"
     ]
    }
   ],
   "source": [
    "password = input('Enter password:   ')\n",
    "if password == 'supermayk':\n",
    "    print('Access granted!')\n",
    "else:\n",
    "    print('Access denied!')"
   ]
  },
  {
   "cell_type": "code",
   "execution_count": 9,
   "id": "33fad851-a6a0-425b-8381-f81518ae1e52",
   "metadata": {},
   "outputs": [
    {
     "name": "stdin",
     "output_type": "stream",
     "text": [
      "Enter password:    supermayk\n"
     ]
    },
    {
     "name": "stdout",
     "output_type": "stream",
     "text": [
      "Access granted!\n"
     ]
    }
   ],
   "source": [
    "password = input('Enter password:   ')\n",
    "if password != 'supermayk':\n",
    "    print('Access denied!')\n",
    "else:\n",
    "    print('Access granted!')"
   ]
  },
  {
   "cell_type": "code",
   "execution_count": null,
   "id": "59d59cec-65d8-4e03-ac6b-56cd0bc821fc",
   "metadata": {},
   "outputs": [],
   "source": []
  }
 ],
 "metadata": {
  "kernelspec": {
   "display_name": "Python [conda env:base] *",
   "language": "python",
   "name": "conda-base-py"
  },
  "language_info": {
   "codemirror_mode": {
    "name": "ipython",
    "version": 3
   },
   "file_extension": ".py",
   "mimetype": "text/x-python",
   "name": "python",
   "nbconvert_exporter": "python",
   "pygments_lexer": "ipython3",
   "version": "3.12.7"
  }
 },
 "nbformat": 4,
 "nbformat_minor": 5
}
