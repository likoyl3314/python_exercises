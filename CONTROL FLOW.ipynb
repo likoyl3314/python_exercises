{
 "cells": [
  {
   "cell_type": "raw",
   "id": "11763b00-4037-4726-8249-a1990eb6817d",
   "metadata": {},
   "source": [
    "CONTROL FLOW:"
   ]
  },
  {
   "cell_type": "code",
   "execution_count": null,
   "id": "ad9a2bf2-b747-4dd6-b031-4618957e6244",
   "metadata": {},
   "outputs": [],
   "source": [
    "!pip install jupyterthemes"
   ]
  },
  {
   "cell_type": "code",
   "execution_count": null,
   "id": "703a8e56-f4b3-469c-bd4d-db040892b330",
   "metadata": {},
   "outputs": [],
   "source": [
    "!jt -l"
   ]
  },
  {
   "cell_type": "code",
   "execution_count": null,
   "id": "ba023e55-c1ea-4da7-83e7-ae87d2bf38ae",
   "metadata": {},
   "outputs": [],
   "source": [
    "!jt -t onedork -T"
   ]
  },
  {
   "cell_type": "code",
   "execution_count": null,
   "id": "8914bde8-1c90-43f0-9e22-6130b5d605a4",
   "metadata": {},
   "outputs": [],
   "source": [
    "!jt -t onedork -fs 12"
   ]
  },
  {
   "cell_type": "code",
   "execution_count": null,
   "id": "84acf073-4910-4f94-b332-22126ffb4dca",
   "metadata": {},
   "outputs": [],
   "source": []
  },
  {
   "cell_type": "code",
   "execution_count": 1,
   "id": "c12b1be2-70bc-4977-910e-439158de4193",
   "metadata": {},
   "outputs": [
    {
     "name": "stdin",
     "output_type": "stream",
     "text": [
      "What is your name? keir\n"
     ]
    },
    {
     "name": "stdout",
     "output_type": "stream",
     "text": [
      "Your name is keir.\n"
     ]
    }
   ],
   "source": [
    "while True:\n",
    "    name = input('What is your name?')  # Prompt the user for their name\n",
    "    if name.replace(' ', '').isalpha() and name.strip(): # allows space between names and handle empty input\n",
    "        break  # Exit the loop if the input is valid\n",
    "    else:\n",
    "        print('Please enter a valid name with only letters.')\n",
    "\n",
    "print(f'Your name is {name}.')\n"
   ]
  },
  {
   "cell_type": "code",
   "execution_count": 3,
   "id": "8dc52abe-f9e9-4128-8b0d-835c1a2c8aca",
   "metadata": {},
   "outputs": [
    {
     "name": "stdin",
     "output_type": "stream",
     "text": [
      "How old are you? 190\n"
     ]
    },
    {
     "name": "stdout",
     "output_type": "stream",
     "text": [
      "Please enter number from 1 to 100.\n"
     ]
    },
    {
     "name": "stdin",
     "output_type": "stream",
     "text": [
      "How old are you? 23\n"
     ]
    },
    {
     "name": "stdout",
     "output_type": "stream",
     "text": [
      "Your name is keir and you are 23 years of age.\n"
     ]
    }
   ],
   "source": [
    "while True:\n",
    "        try:\n",
    "            age = int(input('How old are you?'))\n",
    "            if 1 <= age <= 100:\n",
    "                break\n",
    "            else:\n",
    "                print('Please enter number from 1 to 100.')\n",
    "        except ValueError:\n",
    "            print('Please enter age.')\n",
    "\n",
    "#print(f'You are {age} years old.')\n",
    "print(f'Your name is {name} and you are {age} years of age.')"
   ]
  },
  {
   "cell_type": "code",
   "execution_count": null,
   "id": "9b13d470-3b09-4ff0-94d6-8590bff3c242",
   "metadata": {},
   "outputs": [],
   "source": []
  }
 ],
 "metadata": {
  "kernelspec": {
   "display_name": "Python [conda env:base] *",
   "language": "python",
   "name": "conda-base-py"
  },
  "language_info": {
   "codemirror_mode": {
    "name": "ipython",
    "version": 3
   },
   "file_extension": ".py",
   "mimetype": "text/x-python",
   "name": "python",
   "nbconvert_exporter": "python",
   "pygments_lexer": "ipython3",
   "version": "3.12.7"
  }
 },
 "nbformat": 4,
 "nbformat_minor": 5
}
